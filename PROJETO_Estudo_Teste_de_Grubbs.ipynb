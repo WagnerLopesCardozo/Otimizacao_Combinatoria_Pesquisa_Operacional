{
  "nbformat": 4,
  "nbformat_minor": 0,
  "metadata": {
    "colab": {
      "provenance": [],
      "authorship_tag": "ABX9TyNH/4HhiFgS3b32zjxIl+KT",
      "include_colab_link": true
    },
    "kernelspec": {
      "name": "python3",
      "display_name": "Python 3"
    },
    "language_info": {
      "name": "python"
    }
  },
  "cells": [
    {
      "cell_type": "markdown",
      "metadata": {
        "id": "view-in-github",
        "colab_type": "text"
      },
      "source": [
        "<a href=\"https://colab.research.google.com/github/WagnerLopesCardozo/Otimizacao_Combinatoria_Pesquisa_Operacional/blob/main/PROJETO_Estudo_Teste_de_Grubbs.ipynb\" target=\"_parent\"><img src=\"https://colab.research.google.com/assets/colab-badge.svg\" alt=\"Open In Colab\"/></a>"
      ]
    },
    {
      "cell_type": "code",
      "execution_count": 1,
      "metadata": {
        "colab": {
          "base_uri": "https://localhost:8080/"
        },
        "id": "kNQHipMA34oe",
        "outputId": "63d60ae1-077a-42bf-da24-1415397e898e"
      },
      "outputs": [
        {
          "output_type": "stream",
          "name": "stdout",
          "text": [
            "Estatística de Grubbs: 9.352358744399831\n",
            "Valor crítico de Grubbs: nan\n",
            "Não há evidência suficiente para rejeitar a hipótese nula: Não há outliers no conjunto de dados.\n"
          ]
        },
        {
          "output_type": "stream",
          "name": "stderr",
          "text": [
            "<ipython-input-1-89e12af0a71e>:13: RuntimeWarning: invalid value encountered in sqrt\n",
            "  critical_value = (n - 1) / np.sqrt(n) * np.sqrt(norm.ppf((0.975 / (2 * n))))\n"
          ]
        }
      ],
      "source": [
        "import numpy as np\n",
        "from scipy.stats import zscore\n",
        "from scipy.stats import norm\n",
        "\n",
        "# Conjunto de dados fornecido\n",
        "data = np.array([350, 350, 350, 352, 352, 354, 356, 348, 348, 347, 345, 345, 342, 349, 355, 401, 350, 350, 352, 352, 354, 356, 348, 348, 370, 345, 345, 342, 349])\n",
        "\n",
        "# Função para calcular a estatística de Grubbs\n",
        "def grubbs_test(data):\n",
        "    z_scores = zscore(data)\n",
        "    max_z = np.max(np.abs(z_scores))\n",
        "    n = len(data)\n",
        "    critical_value = (n - 1) / np.sqrt(n) * np.sqrt(norm.ppf((0.975 / (2 * n))))\n",
        "    g_value = max_z / np.sqrt(1 - (max_z ** 2 / (n - 1)))\n",
        "    return g_value, critical_value\n",
        "\n",
        "# Realizando o Teste de Grubbs\n",
        "g_statistic, critical_value = grubbs_test(data)\n",
        "\n",
        "# Imprimindo os resultados\n",
        "print(f'Estatística de Grubbs: {g_statistic}')\n",
        "print(f'Valor crítico de Grubbs: {critical_value}')\n",
        "\n",
        "# Tomando decisão com base no valor crítico\n",
        "if g_statistic > critical_value:\n",
        "    print('Rejeitar a hipótese nula: Há um possível outlier no conjunto de dados.')\n",
        "else:\n",
        "    print('Não há evidência suficiente para rejeitar a hipótese nula: Não há outliers no conjunto de dados.')\n"
      ]
    },
    {
      "cell_type": "code",
      "source": [
        "import numpy as np\n",
        "from scipy.stats import t\n",
        "\n",
        "# Conjunto de dados fornecido\n",
        "data = np.array([350, 350, 350, 352, 352, 354, 356, 348, 348, 347, 345, 345, 342, 349, 355, 401, 350, 350, 352, 352, 354, 356, 348, 348, 370, 345, 345, 342, 349])\n",
        "\n",
        "# Remover duplicatas automaticamente\n",
        "data = np.unique(data)\n",
        "\n",
        "# Função para calcular a estatística de Grubbs\n",
        "def grubbs_test(data):\n",
        "    n = len(data)\n",
        "\n",
        "    # Calcular a estatística de Grubbs\n",
        "    max_value = np.max(data)\n",
        "    mean_value = np.mean(data)\n",
        "    std_value = np.std(data)\n",
        "\n",
        "    g_value = (max_value - mean_value) / std_value\n",
        "\n",
        "    try:\n",
        "        # Calcular o valor crítico de Grubbs usando distribuição t de Student\n",
        "        critical_value = ((n - 1) / np.sqrt(n)) * np.sqrt(t.ppf(1 - 0.05 / (2 * n), n - 2) ** 2 / (n - 2 + t.ppf(1 - 0.05 / (2 * n), n - 2) ** 2))\n",
        "    except Exception as e:\n",
        "        print(f\"Erro ao calcular o valor crítico: {e}\")\n",
        "        critical_value = np.nan\n",
        "\n",
        "    return g_value, critical_value\n",
        "\n",
        "# Realizando o Teste de Grubbs\n",
        "g_statistic, critical_value = grubbs_test(data)\n",
        "\n",
        "# Imprimir os resultados\n",
        "print(f'Estatística de Grubbs: {g_statistic}')\n",
        "print(f'Valor crítico de Grubbs: {critical_value}')\n",
        "\n",
        "# Tomando decisão com base no valor crítico\n",
        "if np.isnan(critical_value):\n",
        "    print(\"Não foi possível calcular o valor crítico corretamente.\")\n",
        "else:\n",
        "    if g_statistic > critical_value:\n",
        "        print('Rejeitar a hipótese nula: Há um possível outlier no conjunto de dados.')\n",
        "    else:\n",
        "        print('Não há evidência suficiente para rejeitar a hipótese nula: Não há outliers no conjunto de dados.')\n"
      ],
      "metadata": {
        "colab": {
          "base_uri": "https://localhost:8080/"
        },
        "id": "abaPCT-u6oX7",
        "outputId": "6abbb371-9a13-4e37-9eb0-0802bd8a535c"
      },
      "execution_count": 5,
      "outputs": [
        {
          "output_type": "stream",
          "name": "stdout",
          "text": [
            "Estatística de Grubbs: 2.9685430476409\n",
            "Valor crítico de Grubbs: 2.4115595184316536\n",
            "Rejeitar a hipótese nula: Há um possível outlier no conjunto de dados.\n"
          ]
        }
      ]
    },
    {
      "cell_type": "code",
      "source": [
        "import numpy as np\n",
        "import matplotlib.pyplot as plt\n",
        "from scipy.stats import t\n",
        "\n",
        "# Conjunto de dados fornecido\n",
        "data = np.array([350, 350, 350, 352, 352, 354, 356, 348, 348, 347, 345, 345, 342, 349, 355, 401, 350, 350, 352, 352, 354, 356, 348, 348, 370, 345, 345, 342, 349])\n",
        "\n",
        "# Remover duplicatas automaticamente\n",
        "data = np.unique(data)\n",
        "\n",
        "# Função para calcular a estatística de Grubbs\n",
        "def grubbs_test(data):\n",
        "    n = len(data)\n",
        "\n",
        "    # Calcular a estatística de Grubbs\n",
        "    max_value = np.max(data)\n",
        "    mean_value = np.mean(data)\n",
        "    std_value = np.std(data)\n",
        "\n",
        "    g_value = (max_value - mean_value) / std_value\n",
        "\n",
        "    try:\n",
        "        # Calcular o valor crítico de Grubbs usando distribuição t de Student\n",
        "        critical_value = ((n - 1) / np.sqrt(n)) * np.sqrt(t.ppf(1 - 0.05 / (2 * n), n - 2) ** 2 / (n - 2 + t.ppf(1 - 0.05 / (2 * n), n - 2) ** 2))\n",
        "    except Exception as e:\n",
        "        print(f\"Erro ao calcular o valor crítico: {e}\")\n",
        "        critical_value = np.nan\n",
        "\n",
        "    return g_value, critical_value\n",
        "\n",
        "# Realizando o Teste de Grubbs\n",
        "g_statistic, critical_value = grubbs_test(data)\n",
        "\n",
        "# Imprimir os resultados\n",
        "print(f'Estatística de Grubbs: {g_statistic}')\n",
        "print(f'Valor crítico de Grubbs: {critical_value}')\n",
        "\n",
        "# Tomando decisão com base no valor crítico\n",
        "if np.isnan(critical_value):\n",
        "    print(\"Não foi possível calcular o valor crítico corretamente.\")\n",
        "else:\n",
        "    if g_statistic > critical_value:\n",
        "        print('Rejeitar a hipótese nula: Há um possível outlier no conjunto de dados.')\n",
        "    else:\n",
        "        print('Não há evidência suficiente para rejeitar a hipótese nula: Não há outliers no conjunto de dados.')\n",
        "\n",
        "# Plotando o boxplot com destaque para outliers na vertical e com caixa retangular\n",
        "plt.boxplot(data, vert=False, widths=0.7, patch_artist=True, boxprops=dict(facecolor='lightblue', color='black'))\n",
        "plt.title('Boxplot com Destaque para Outlier')\n",
        "plt.xlabel('Valores')\n",
        "plt.show()\n"
      ],
      "metadata": {
        "colab": {
          "base_uri": "https://localhost:8080/",
          "height": 524
        },
        "id": "E1vDHSHd8ZSI",
        "outputId": "75ee8c3f-771a-48e1-f8c5-91ab0d4eea2e"
      },
      "execution_count": 10,
      "outputs": [
        {
          "output_type": "stream",
          "name": "stdout",
          "text": [
            "Estatística de Grubbs: 2.9685430476409\n",
            "Valor crítico de Grubbs: 2.4115595184316536\n",
            "Rejeitar a hipótese nula: Há um possível outlier no conjunto de dados.\n"
          ]
        },
        {
          "output_type": "display_data",
          "data": {
            "text/plain": [
              "<Figure size 640x480 with 1 Axes>"
            ],
            "image/png": "[encoded data removed]"
          },
          "metadata": {}
        }
      ]
    },
    {
      "cell_type": "code",
      "source": [
        "import numpy as np\n",
        "import matplotlib.pyplot as plt\n",
        "from scipy.stats import t\n",
        "\n",
        "# Conjunto de dados fornecido\n",
        "data = np.array([350, 350, 350, 352, 352, 354, 356, 348, 348, 347, 345, 345, 342, 349, 355, 401, 350, 350, 352, 352, 354, 356, 348, 348, 370, 345, 345, 342, 349])\n",
        "\n",
        "# Remover duplicatas automaticamente\n",
        "data = np.unique(data)\n",
        "\n",
        "# Função para calcular a estatística de Grubbs\n",
        "def grubbs_test(data):\n",
        "    n = len(data)\n",
        "\n",
        "    # Calcular a estatística de Grubbs\n",
        "    max_value = np.max(data)\n",
        "    mean_value = np.mean(data)\n",
        "    std_value = np.std(data)\n",
        "\n",
        "    g_value = (max_value - mean_value) / std_value\n",
        "\n",
        "    try:\n",
        "        # Calcular o valor crítico de Grubbs usando distribuição t de Student\n",
        "        critical_value = ((n - 1) / np.sqrt(n)) * np.sqrt(t.ppf(1 - 0.05 / (2 * n), n - 2) ** 2 / (n - 2 + t.ppf(1 - 0.05 / (2 * n), n - 2) ** 2))\n",
        "    except Exception as e:\n",
        "        print(f\"Erro ao calcular o valor crítico: {e}\")\n",
        "        critical_value = np.nan\n",
        "\n",
        "    return g_value, critical_value\n",
        "\n",
        "# Realizando o Teste de Grubbs\n",
        "g_statistic, critical_value = grubbs_test(data)\n",
        "\n",
        "# Imprimir os resultados\n",
        "print(f'Estatística de Grubbs: {g_statistic}')\n",
        "print(f'Valor crítico de Grubbs: {critical_value}')\n",
        "\n",
        "# Tomando decisão com base no valor crítico\n",
        "if np.isnan(critical_value):\n",
        "    print(\"Não foi possível calcular o valor crítico corretamente.\")\n",
        "else:\n",
        "    if g_statistic > critical_value:\n",
        "        print('Rejeitar a hipótese nula: Há um possível outlier no conjunto de dados.')\n",
        "    else:\n",
        "        print('Não há evidência suficiente para rejeitar a hipótese nula: Não há outliers no conjunto de dados.')\n",
        "\n",
        "# Plotando o boxplot com destaque para outliers na vertical e com caixa retangular\n",
        "plt.boxplot(data, vert=True, widths=0.7, patch_artist=True, boxprops=dict(facecolor='lightblue', color='black'))\n",
        "plt.title('Boxplot com Destaque para Outlier')\n",
        "plt.ylabel('Valores')\n",
        "plt.show()\n"
      ],
      "metadata": {
        "colab": {
          "base_uri": "https://localhost:8080/",
          "height": 504
        },
        "id": "TWgx7LQg87QV",
        "outputId": "769b0219-55c8-4439-8917-307f3a3c022e"
      },
      "execution_count": 9,
      "outputs": [
        {
          "output_type": "stream",
          "name": "stdout",
          "text": [
            "Estatística de Grubbs: 2.9685430476409\n",
            "Valor crítico de Grubbs: 2.4115595184316536\n",
            "Rejeitar a hipótese nula: Há um possível outlier no conjunto de dados.\n"
          ]
        },
        {
          "output_type": "display_data",
          "data": {
            "text/plain": [
              "<Figure size 640x480 with 1 Axes>"
            ],
            "image/png": "[encoded data removed]"
          },
          "metadata": {}
        }
      ]
    }
  ]
}